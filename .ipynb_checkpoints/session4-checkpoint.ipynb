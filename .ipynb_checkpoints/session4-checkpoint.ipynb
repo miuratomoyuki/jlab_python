{
 "cells": [
  {
   "cell_type": "code",
   "execution_count": 2,
   "metadata": {},
   "outputs": [
    {
     "name": "stdout",
     "output_type": "stream",
     "text": [
      "ひつじが1匹\n",
      "ひつじが2匹\n",
      "ひつじが3匹\n",
      "ひつじが4匹\n",
      "ひつじが5匹\n",
      "ひつじが6匹\n",
      "ひつじが7匹\n",
      "ひつじが8匹\n",
      "ひつじが9匹\n",
      "ひつじが10匹\n",
      "ひつじが11匹\n",
      "ひつじが12匹\n",
      "ひつじが13匹\n",
      "ひつじが14匹\n",
      "ひつじが15匹\n",
      "ひつじが16匹\n",
      "ひつじが17匹\n",
      "ひつじが18匹\n",
      "ひつじが19匹\n",
      "ひつじが20匹\n",
      "ひつじが21匹\n",
      "ひつじが22匹\n",
      "ひつじが23匹\n",
      "ひつじが24匹\n",
      "ひつじが25匹\n",
      "ひつじが26匹\n",
      "ひつじが27匹\n",
      "ひつじが28匹\n",
      "ひつじが29匹\n",
      "ひつじが30匹\n",
      "ひつじが31匹\n",
      "ひつじが32匹\n",
      "ひつじが33匹\n",
      "ひつじが34匹\n",
      "ひつじが35匹\n",
      "ひつじが36匹\n",
      "ひつじが37匹\n",
      "ひつじが38匹\n",
      "ひつじが39匹\n",
      "ひつじが40匹\n",
      "ひつじが41匹\n",
      "ひつじが42匹\n",
      "ひつじが43匹\n",
      "ひつじが44匹\n",
      "ひつじが45匹\n",
      "ひつじが46匹\n",
      "ひつじが47匹\n",
      "ひつじが48匹\n",
      "ひつじが49匹\n",
      "ひつじが50匹\n",
      "ひつじが51匹\n",
      "ひつじが52匹\n",
      "ひつじが53匹\n",
      "ひつじが54匹\n",
      "ひつじが55匹\n",
      "ひつじが56匹\n",
      "ひつじが57匹\n",
      "ひつじが58匹\n",
      "ひつじが59匹\n",
      "ひつじが60匹\n",
      "ひつじが61匹\n",
      "ひつじが62匹\n",
      "ひつじが63匹\n",
      "ひつじが64匹\n",
      "ひつじが65匹\n",
      "ひつじが66匹\n",
      "ひつじが67匹\n",
      "ひつじが68匹\n",
      "ひつじが69匹\n",
      "ひつじが70匹\n",
      "ひつじが71匹\n",
      "ひつじが72匹\n",
      "ひつじが73匹\n",
      "ひつじが74匹\n",
      "ひつじが75匹\n",
      "ひつじが76匹\n",
      "ひつじが77匹\n",
      "ひつじが78匹\n",
      "ひつじが79匹\n",
      "ひつじが80匹\n",
      "ひつじが81匹\n",
      "ひつじが82匹\n",
      "ひつじが83匹\n",
      "ひつじが84匹\n",
      "ひつじが85匹\n",
      "ひつじが86匹\n",
      "ひつじが87匹\n",
      "ひつじが88匹\n",
      "ひつじが89匹\n",
      "ひつじが90匹\n",
      "ひつじが91匹\n",
      "ひつじが92匹\n",
      "ひつじが93匹\n",
      "ひつじが94匹\n",
      "ひつじが95匹\n",
      "ひつじが96匹\n",
      "ひつじが97匹\n",
      "ひつじが98匹\n",
      "ひつじが99匹\n",
      "ひつじが100匹\n",
      "ひつじが101匹\n",
      "ひつじが102匹\n",
      "ひつじが103匹\n",
      "ひつじが104匹\n",
      "ひつじが105匹\n",
      "ひつじが106匹\n",
      "ひつじが107匹\n",
      "ひつじが108匹\n",
      "ひつじが109匹\n",
      "ひつじが110匹\n",
      "ひつじが111匹\n",
      "ひつじが112匹\n",
      "ひつじが113匹\n",
      "ひつじが114匹\n",
      "ひつじが115匹\n",
      "ひつじが116匹\n",
      "ひつじが117匹\n",
      "ひつじが118匹\n",
      "ひつじが119匹\n",
      "ひつじが120匹\n",
      "ひつじが121匹\n",
      "ひつじが122匹\n",
      "ひつじが123匹\n",
      "ひつじが124匹\n",
      "ひつじが125匹\n",
      "ひつじが126匹\n",
      "ひつじが127匹\n",
      "ひつじが128匹\n",
      "ひつじが129匹\n",
      "ひつじが130匹\n",
      "ひつじが131匹\n",
      "ひつじが132匹\n",
      "ひつじが133匹\n",
      "ひつじが134匹\n",
      "ひつじが135匹\n",
      "ひつじが136匹\n",
      "ひつじが137匹\n",
      "ひつじが138匹\n",
      "ひつじが139匹\n",
      "ひつじが140匹\n",
      "ひつじが141匹\n",
      "ひつじが142匹\n",
      "ひつじが143匹\n",
      "ひつじが144匹\n",
      "ひつじが145匹\n",
      "ひつじが146匹\n",
      "ひつじが147匹\n",
      "ひつじが148匹\n",
      "ひつじが149匹\n",
      "ひつじが150匹\n",
      "ひつじが151匹\n",
      "ひつじが152匹\n",
      "ひつじが153匹\n",
      "ひつじが154匹\n",
      "ひつじが155匹\n",
      "ひつじが156匹\n",
      "ひつじが157匹\n",
      "ひつじが158匹\n",
      "ひつじが159匹\n",
      "ひつじが160匹\n",
      "ひつじが161匹\n",
      "ひつじが162匹\n",
      "ひつじが163匹\n",
      "ひつじが164匹\n",
      "ひつじが165匹\n",
      "ひつじが166匹\n",
      "ひつじが167匹\n",
      "ひつじが168匹\n",
      "ひつじが169匹\n",
      "ひつじが170匹\n",
      "ひつじが171匹\n",
      "ひつじが172匹\n",
      "ひつじが173匹\n",
      "ひつじが174匹\n",
      "ひつじが175匹\n",
      "ひつじが176匹\n",
      "ひつじが177匹\n",
      "ひつじが178匹\n",
      "ひつじが179匹\n",
      "ひつじが180匹\n",
      "ひつじが181匹\n",
      "ひつじが182匹\n",
      "ひつじが183匹\n",
      "ひつじが184匹\n",
      "ひつじが185匹\n",
      "ひつじが186匹\n",
      "ひつじが187匹\n",
      "ひつじが188匹\n",
      "ひつじが189匹\n",
      "ひつじが190匹\n",
      "ひつじが191匹\n",
      "ひつじが192匹\n",
      "ひつじが193匹\n",
      "ひつじが194匹\n",
      "ひつじが195匹\n",
      "ひつじが196匹\n",
      "ひつじが197匹\n",
      "ひつじが198匹\n",
      "ひつじが199匹\n",
      "ひつじが200匹\n",
      "ひつじが201匹\n",
      "ひつじが202匹\n",
      "ひつじが203匹\n",
      "ひつじが204匹\n",
      "ひつじが205匹\n",
      "ひつじが206匹\n",
      "ひつじが207匹\n",
      "ひつじが208匹\n",
      "ひつじが209匹\n",
      "ひつじが210匹\n",
      "ひつじが211匹\n",
      "ひつじが212匹\n",
      "ひつじが213匹\n",
      "ひつじが214匹\n",
      "ひつじが215匹\n",
      "ひつじが216匹\n",
      "ひつじが217匹\n",
      "ひつじが218匹\n",
      "ひつじが219匹\n",
      "ひつじが220匹\n",
      "ひつじが221匹\n",
      "ひつじが222匹\n",
      "ひつじが223匹\n",
      "ひつじが224匹\n",
      "ひつじが225匹\n",
      "ひつじが226匹\n",
      "ひつじが227匹\n",
      "ひつじが228匹\n",
      "ひつじが229匹\n",
      "ひつじが230匹\n",
      "ひつじが231匹\n",
      "ひつじが232匹\n",
      "ひつじが233匹\n",
      "ひつじが234匹\n",
      "ひつじが235匹\n",
      "ひつじが236匹\n",
      "ひつじが237匹\n",
      "ひつじが238匹\n",
      "ひつじが239匹\n",
      "ひつじが240匹\n",
      "ひつじが241匹\n",
      "ひつじが242匹\n",
      "ひつじが243匹\n",
      "ひつじが244匹\n",
      "ひつじが245匹\n",
      "ひつじが246匹\n",
      "ひつじが247匹\n",
      "ひつじが248匹\n",
      "ひつじが249匹\n",
      "ひつじが250匹\n",
      "ひつじが251匹\n",
      "ひつじが252匹\n",
      "ひつじが253匹\n",
      "ひつじが254匹\n",
      "ひつじが255匹\n",
      "ひつじが256匹\n",
      "ひつじが257匹\n",
      "ひつじが258匹\n",
      "ひつじが259匹\n",
      "ひつじが260匹\n",
      "ひつじが261匹\n",
      "ひつじが262匹\n",
      "ひつじが263匹\n",
      "ひつじが264匹\n",
      "ひつじが265匹\n",
      "ひつじが266匹\n",
      "ひつじが267匹\n",
      "ひつじが268匹\n",
      "ひつじが269匹\n",
      "ひつじが270匹\n",
      "ひつじが271匹\n",
      "ひつじが272匹\n",
      "ひつじが273匹\n",
      "ひつじが274匹\n",
      "ひつじが275匹\n",
      "ひつじが276匹\n",
      "ひつじが277匹\n",
      "ひつじが278匹\n",
      "ひつじが279匹\n",
      "ひつじが280匹\n",
      "ひつじが281匹\n",
      "ひつじが282匹\n",
      "ひつじが283匹\n",
      "ひつじが284匹\n",
      "ひつじが285匹\n",
      "ひつじが286匹\n",
      "ひつじが287匹\n",
      "ひつじが288匹\n",
      "ひつじが289匹\n",
      "ひつじが290匹\n",
      "ひつじが291匹\n",
      "ひつじが292匹\n",
      "ひつじが293匹\n",
      "ひつじが294匹\n",
      "ひつじが295匹\n",
      "ひつじが296匹\n",
      "ひつじが297匹\n",
      "ひつじが298匹\n",
      "ひつじが299匹\n",
      "ひつじが300匹\n",
      "おやすみなさい\n"
     ]
    }
   ],
   "source": [
    "count = 0\n",
    "while count < 300:\n",
    "    count += 1\n",
    "    print(f'ひつじが{count}匹')\n",
    "print('おやすみなさい')"
   ]
  },
  {
   "cell_type": "code",
   "execution_count": 6,
   "metadata": {},
   "outputs": [
    {
     "name": "stdout",
     "output_type": "stream",
     "text": [
      "羊が1匹\n"
     ]
    },
    {
     "name": "stdin",
     "output_type": "stream",
     "text": [
      "もう眠りそうですか？ n\n"
     ]
    },
    {
     "name": "stdout",
     "output_type": "stream",
     "text": [
      "羊が2匹\n"
     ]
    },
    {
     "name": "stdin",
     "output_type": "stream",
     "text": [
      "もう眠りそうですか？ n\n"
     ]
    },
    {
     "name": "stdout",
     "output_type": "stream",
     "text": [
      "羊が3匹\n"
     ]
    },
    {
     "name": "stdin",
     "output_type": "stream",
     "text": [
      "もう眠りそうですか？ n\n"
     ]
    },
    {
     "name": "stdout",
     "output_type": "stream",
     "text": [
      "羊が4匹\n"
     ]
    },
    {
     "name": "stdin",
     "output_type": "stream",
     "text": [
      "もう眠りそうですか？ n\n"
     ]
    },
    {
     "name": "stdout",
     "output_type": "stream",
     "text": [
      "羊が5匹\n"
     ]
    },
    {
     "name": "stdin",
     "output_type": "stream",
     "text": [
      "もう眠りそうですか？ n\n"
     ]
    },
    {
     "name": "stdout",
     "output_type": "stream",
     "text": [
      "羊が6匹\n"
     ]
    },
    {
     "name": "stdin",
     "output_type": "stream",
     "text": [
      "もう眠りそうですか？ n\n"
     ]
    },
    {
     "name": "stdout",
     "output_type": "stream",
     "text": [
      "羊が7匹\n"
     ]
    },
    {
     "name": "stdin",
     "output_type": "stream",
     "text": [
      "もう眠りそうですか？ n\n"
     ]
    },
    {
     "name": "stdout",
     "output_type": "stream",
     "text": [
      "羊が8匹\n"
     ]
    },
    {
     "name": "stdin",
     "output_type": "stream",
     "text": [
      "もう眠りそうですか？ n\n"
     ]
    },
    {
     "name": "stdout",
     "output_type": "stream",
     "text": [
      "羊が9匹\n"
     ]
    },
    {
     "name": "stdin",
     "output_type": "stream",
     "text": [
      "もう眠りそうですか？ nnnnnnnnn\n"
     ]
    },
    {
     "name": "stdout",
     "output_type": "stream",
     "text": [
      "羊が10匹\n"
     ]
    },
    {
     "name": "stdin",
     "output_type": "stream",
     "text": [
      "もう眠りそうですか？ y\n"
     ]
    },
    {
     "name": "stdout",
     "output_type": "stream",
     "text": [
      "zzz\n"
     ]
    }
   ],
   "source": [
    "is_awake = True\n",
    "count = 0\n",
    "while is_awake == True:\n",
    "    count += 1\n",
    "    print(f'羊が{count}匹')\n",
    "    key = input('もう眠りそうですか？')\n",
    "    if key == 'y':\n",
    "        is_awake = False\n",
    "print('zzz')"
   ]
  },
  {
   "cell_type": "code",
   "execution_count": null,
   "metadata": {},
   "outputs": [],
   "source": [
    "count = 0\n",
    "student_num = int(input('学生の数を入力'))\n",
    "score_list = list()\n",
    "while count < student_num:\n",
    "    count += 1\n",
    "    score = int(input(f'{count}人目の得点を入力'))\n",
    "    score_list.append(score)\n",
    "print(score_list)\n",
    "print(sum(score_list))"
   ]
  },
  {
   "cell_type": "code",
   "execution_count": 1,
   "metadata": {},
   "outputs": [
    {
     "name": "stdout",
     "output_type": "stream",
     "text": [
      "5\n",
      "不合格\n",
      "不合格\n",
      "不合格\n",
      "40\n",
      "合格\n",
      "100\n",
      "合格\n"
     ]
    }
   ],
   "source": [
    "scores = [10,20,30,40,100]\n",
    "count = 0\n",
    "print(len(scores))\n",
    "while count < len(scores):\n",
    "    if scores[count] > 30:\n",
    "        print(scores[count])\n",
    "        print('合格')\n",
    "    else:\n",
    "        print('不合格')\n",
    "    count += 1\n"
   ]
  },
  {
   "cell_type": "code",
   "execution_count": 2,
   "metadata": {},
   "outputs": [
    {
     "name": "stdout",
     "output_type": "stream",
     "text": [
      "不合格\n",
      "不合格\n",
      "合格\n",
      "合格\n"
     ]
    }
   ],
   "source": [
    "scores = [10,20,30,40]\n",
    "for data in scores:\n",
    "    if data > 20:\n",
    "        print('合格')\n",
    "    else:\n",
    "        print('不合格')"
   ]
  },
  {
   "cell_type": "code",
   "execution_count": 3,
   "metadata": {},
   "outputs": [
    {
     "name": "stdout",
     "output_type": "stream",
     "text": [
      "a\n",
      "a\n",
      "a\n"
     ]
    }
   ],
   "source": [
    "for num in range(3):\n",
    "    print('a')"
   ]
  },
  {
   "cell_type": "code",
   "execution_count": 5,
   "metadata": {},
   "outputs": [
    {
     "name": "stdout",
     "output_type": "stream",
     "text": [
      "[28, 29, 24, 21, 20]\n"
     ]
    }
   ],
   "source": [
    "ages = [28,55,29,43,33,85,11,24,90,82,21,20,26]\n",
    "num = 5\n",
    "samples = list()\n",
    "for age in ages:\n",
    "    if 20 <= age <30:\n",
    "        if len(samples) < num:\n",
    "            samples.append(age)\n",
    "print(samples)"
   ]
  },
  {
   "cell_type": "code",
   "execution_count": 6,
   "metadata": {},
   "outputs": [
    {
     "name": "stdout",
     "output_type": "stream",
     "text": [
      "[28]\n"
     ]
    }
   ],
   "source": [
    "ages = [28,55,29,43,33,85,11,24,90,82,21,20,26]\n",
    "num = 5\n",
    "samples = list()\n",
    "for age in ages:\n",
    "    if 20 <= age <30:\n",
    "        samples.append(age)\n",
    "        if len(samples) == num:\n",
    "            break\n",
    "            \n",
    "print(samples)"
   ]
  },
  {
   "cell_type": "code",
   "execution_count": null,
   "metadata": {},
   "outputs": [],
   "source": []
  }
 ],
 "metadata": {
  "kernelspec": {
   "display_name": "Python 3",
   "language": "python",
   "name": "python3"
  },
  "language_info": {
   "codemirror_mode": {
    "name": "ipython",
    "version": 3
   },
   "file_extension": ".py",
   "mimetype": "text/x-python",
   "name": "python",
   "nbconvert_exporter": "python",
   "pygments_lexer": "ipython3",
   "version": "3.7.3"
  }
 },
 "nbformat": 4,
 "nbformat_minor": 2
}
