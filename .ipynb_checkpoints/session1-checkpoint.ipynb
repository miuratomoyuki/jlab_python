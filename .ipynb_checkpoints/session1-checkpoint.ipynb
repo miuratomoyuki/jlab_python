{
 "cells": [
  {
   "cell_type": "code",
   "execution_count": 10,
   "metadata": {},
   "outputs": [
    {
     "name": "stdout",
     "output_type": "stream",
     "text": [
      "2\n",
      "369729637649726772657187905628805440595668764281741102430259972423552570455277523421410650010128232727940978889548326540119429996769494359451621570193644014418071060667659301384999779999159200499899\n",
      "11\n",
      "pythonはとってもとってもとっても\n"
     ]
    }
   ],
   "source": [
    "print(1 + 1)\n",
    "print(99 ** 99)\n",
    "print('1' + '1')\n",
    "print('pythonは' + 'とっても' * 3)"
   ]
  },
  {
   "cell_type": "code",
   "execution_count": 30,
   "metadata": {},
   "outputs": [
    {
     "name": "stdout",
     "output_type": "stream",
     "text": [
      "マツダ\n",
      "22\n"
     ]
    }
   ],
   "source": [
    "name = 'マツダ'\n",
    "age =  22\n",
    "print(name)\n",
    "print(age)"
   ]
  },
  {
   "cell_type": "code",
   "execution_count": 15,
   "metadata": {},
   "outputs": [
    {
     "name": "stdout",
     "output_type": "stream",
     "text": [
      "6\n",
      "18.84\n"
     ]
    }
   ],
   "source": [
    "dia=(3*2)\n",
    "print(dia)\n",
    "print(dia * 3.14)"
   ]
  },
  {
   "cell_type": "code",
   "execution_count": 16,
   "metadata": {},
   "outputs": [
    {
     "name": "stdout",
     "output_type": "stream",
     "text": [
      "20\n",
      "24\n"
     ]
    }
   ],
   "source": [
    "age = 20\n",
    "print(age)\n",
    "age =24\n",
    "print(age)"
   ]
  },
  {
   "cell_type": "code",
   "execution_count": 17,
   "metadata": {},
   "outputs": [
    {
     "name": "stdout",
     "output_type": "stream",
     "text": [
      "['False', 'None', 'True', 'and', 'as', 'assert', 'async', 'await', 'break', 'class', 'continue', 'def', 'del', 'elif', 'else', 'except', 'finally', 'for', 'from', 'global', 'if', 'import', 'in', 'is', 'lambda', 'nonlocal', 'not', 'or', 'pass', 'raise', 'return', 'try', 'while', 'with', 'yield']\n"
     ]
    }
   ],
   "source": [
    "import keyword\n",
    "print(keyword.kwlist)"
   ]
  },
  {
   "cell_type": "code",
   "execution_count": 35,
   "metadata": {},
   "outputs": [
    {
     "name": "stdout",
     "output_type": "stream",
     "text": [
      "aaa\n",
      "29\n",
      "30\n",
      "45.0\n"
     ]
    }
   ],
   "source": [
    "name,age = 'aaa',28\n",
    "print(name)\n",
    "age = age +1\n",
    "print(age)\n",
    "age += 1\n",
    "print(age)\n",
    "age *= 1.5\n",
    "print(age)"
   ]
  },
  {
   "cell_type": "code",
   "execution_count": 26,
   "metadata": {},
   "outputs": [
    {
     "name": "stdin",
     "output_type": "stream",
     "text": [
      "あなたの名前を入力してください miura\n"
     ]
    },
    {
     "name": "stdout",
     "output_type": "stream",
     "text": [
      "あなたの名前はmiura\n"
     ]
    }
   ],
   "source": [
    "name = input('あなたの名前を入力してください')\n",
    "print('あなたの名前は' + name)"
   ]
  },
  {
   "cell_type": "code",
   "execution_count": 27,
   "metadata": {},
   "outputs": [
    {
     "name": "stdout",
     "output_type": "stream",
     "text": [
      "<class 'int'>\n"
     ]
    }
   ],
   "source": [
    "x = 10\n",
    "print(type(x))"
   ]
  },
  {
   "cell_type": "code",
   "execution_count": 29,
   "metadata": {},
   "outputs": [
    {
     "name": "stdout",
     "output_type": "stream",
     "text": [
      "<class 'float'>\n",
      "3\n",
      "3.14\n"
     ]
    }
   ],
   "source": [
    "x = 3.99\n",
    "print(type(x))\n",
    "y = int(x)\n",
    "print(y)\n",
    "z = str(x)\n",
    "print(z)"
   ]
  },
  {
   "cell_type": "code",
   "execution_count": 32,
   "metadata": {},
   "outputs": [
    {
     "name": "stdin",
     "output_type": "stream",
     "text": [
      "料金を入力 10000\n",
      "人数を入力 2\n"
     ]
    },
    {
     "name": "stdout",
     "output_type": "stream",
     "text": [
      "一人あたりのお支払いは5000.0\n"
     ]
    }
   ],
   "source": [
    "price = input(\"料金を入力\")\n",
    "price = int(price)\n",
    "number = input(\"人数を入力\")\n",
    "number = int(number)\n",
    "payment = price / number\n",
    "payment = str(payment)\n",
    "print('一人あたりのお支払いは' + payment)"
   ]
  },
  {
   "cell_type": "markdown",
   "metadata": {},
   "source": [
    "name = 'miura'\n",
    "age = 23\n",
    "height = 100.0"
   ]
  },
  {
   "cell_type": "code",
   "execution_count": 33,
   "metadata": {},
   "outputs": [
    {
     "name": "stdout",
     "output_type": "stream",
     "text": [
      "名前はmiura年齢は24身長は100.0\n"
     ]
    }
   ],
   "source": [
    "name = 'miura'\n",
    "age = 24\n",
    "height = 100.0\n",
    "print('名前は{}年齢は{}身長は{}'.format(name,age,height))"
   ]
  },
  {
   "cell_type": "code",
   "execution_count": 34,
   "metadata": {},
   "outputs": [
    {
     "data": {
      "text/plain": [
       "'777777777777'"
      ]
     },
     "execution_count": 34,
     "metadata": {},
     "output_type": "execute_result"
    }
   ],
   "source": [
    "2+10*5\n",
    "'7'*3*4'"
   ]
  },
  {
   "cell_type": "code",
   "execution_count": 40,
   "metadata": {},
   "outputs": [
    {
     "name": "stdin",
     "output_type": "stream",
     "text": [
      "体重を入力してください 72\n",
      "身長を入力してください 177\n"
     ]
    },
    {
     "name": "stdout",
     "output_type": "stream",
     "text": [
      "BMIは0.002298190175237001\n"
     ]
    }
   ],
   "source": [
    "mass = input('体重を入力してください')\n",
    "height = input('身長を入力してください')\n",
    "bmi = int(mass) / int(height) ** 2\n",
    "print(f'BMIは{str(bmi)}')"
   ]
  },
  {
   "cell_type": "code",
   "execution_count": null,
   "metadata": {},
   "outputs": [],
   "source": []
  }
 ],
 "metadata": {
  "kernelspec": {
   "display_name": "Python 3",
   "language": "python",
   "name": "python3"
  },
  "language_info": {
   "codemirror_mode": {
    "name": "ipython",
    "version": 3
   },
   "file_extension": ".py",
   "mimetype": "text/x-python",
   "name": "python",
   "nbconvert_exporter": "python",
   "pygments_lexer": "ipython3",
   "version": "3.7.3"
  }
 },
 "nbformat": 4,
 "nbformat_minor": 2
}
