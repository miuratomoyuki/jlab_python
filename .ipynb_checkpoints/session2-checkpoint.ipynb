{
 "cells": [
  {
   "cell_type": "code",
   "execution_count": 1,
   "metadata": {},
   "outputs": [
    {
     "name": "stdout",
     "output_type": "stream",
     "text": [
      "平均点は90.0\n"
     ]
    }
   ],
   "source": [
    "network = 80\n",
    "database = 90\n",
    "security = 100\n",
    "avg = (network + database + security)/3\n",
    "print(f'平均点は{str(avg)}')"
   ]
  },
  {
   "cell_type": "code",
   "execution_count": 2,
   "metadata": {},
   "outputs": [
    {
     "name": "stdout",
     "output_type": "stream",
     "text": [
      "['駆動', '松田', 'asaki']\n"
     ]
    }
   ],
   "source": [
    "members = ['駆動','松田','asaki']\n",
    "print(members)"
   ]
  },
  {
   "cell_type": "code",
   "execution_count": 3,
   "metadata": {},
   "outputs": [
    {
     "name": "stdout",
     "output_type": "stream",
     "text": [
      "駆動\n"
     ]
    }
   ],
   "source": [
    "print(members[0])"
   ]
  },
  {
   "cell_type": "code",
   "execution_count": 6,
   "metadata": {},
   "outputs": [
    {
     "name": "stdout",
     "output_type": "stream",
     "text": [
      "3\n",
      "270\n",
      "90.0\n"
     ]
    }
   ],
   "source": [
    "scores=[80,90,100]\n",
    "total = sum(scores)\n",
    "print(len(scores))\n",
    "print(total)\n",
    "print(total/len(scores))"
   ]
  },
  {
   "cell_type": "code",
   "execution_count": 13,
   "metadata": {},
   "outputs": [
    {
     "name": "stdout",
     "output_type": "stream",
     "text": [
      "[80, 90, 100, 100]\n",
      "[80, 90]\n",
      "[90]\n"
     ]
    }
   ],
   "source": [
    "scores.append(100)\n",
    "print(scores)\n",
    "scores.remove(100)\n",
    "scores.remove(100)\n",
    "print(scores)\n",
    "print(scores[1:])"
   ]
  },
  {
   "cell_type": "code",
   "execution_count": 20,
   "metadata": {},
   "outputs": [
    {
     "name": "stdout",
     "output_type": "stream",
     "text": [
      "{'network': 60, 'database': 80, 'security': 100}\n",
      "60\n",
      "{'network': 60, 'database': 80, 'security': 100, 'programing': 70}\n",
      "310\n"
     ]
    }
   ],
   "source": [
    "scores = {'network':60,'database':80,'security':100}\n",
    "print(scores)\n",
    "print(scores['network'])\n",
    "scores['programing'] = 70\n",
    "print(scores)\n",
    "total = sum(scores.values())\n",
    "print(total)"
   ]
  },
  {
   "cell_type": "code",
   "execution_count": 21,
   "metadata": {},
   "outputs": [
    {
     "ename": "TypeError",
     "evalue": "'tuple' object does not support item assignment",
     "output_type": "error",
     "traceback": [
      "\u001b[0;31m---------------------------------------------------------------------------\u001b[0m",
      "\u001b[0;31mTypeError\u001b[0m                                 Traceback (most recent call last)",
      "\u001b[0;32m<ipython-input-21-0ab44a4c76bd>\u001b[0m in \u001b[0;36m<module>\u001b[0;34m\u001b[0m\n\u001b[1;32m      1\u001b[0m \u001b[0mscores\u001b[0m\u001b[0;34m=\u001b[0m \u001b[0;34m(\u001b[0m\u001b[0;36m10\u001b[0m\u001b[0;34m,\u001b[0m\u001b[0;36m20\u001b[0m\u001b[0;34m,\u001b[0m\u001b[0;36m30\u001b[0m\u001b[0;34m)\u001b[0m\u001b[0;34m\u001b[0m\u001b[0;34m\u001b[0m\u001b[0m\n\u001b[0;32m----> 2\u001b[0;31m \u001b[0mscores\u001b[0m\u001b[0;34m[\u001b[0m\u001b[0;36m0\u001b[0m\u001b[0;34m]\u001b[0m \u001b[0;34m=\u001b[0m \u001b[0;36m30\u001b[0m\u001b[0;34m\u001b[0m\u001b[0;34m\u001b[0m\u001b[0m\n\u001b[0m",
      "\u001b[0;31mTypeError\u001b[0m: 'tuple' object does not support item assignment"
     ]
    }
   ],
   "source": [
    "scores= (10,20,30)\n",
    "scores[0] = 30"
   ]
  },
  {
   "cell_type": "code",
   "execution_count": 23,
   "metadata": {},
   "outputs": [
    {
     "name": "stdout",
     "output_type": "stream",
     "text": [
      "{80, 70, 55}\n",
      "{80, 70, 55}\n"
     ]
    }
   ],
   "source": [
    "scores = {70,80,55,80}\n",
    "print(scores)\n",
    "scores.add(80)\n",
    "print(scores)"
   ]
  },
  {
   "cell_type": "code",
   "execution_count": 24,
   "metadata": {},
   "outputs": [
    {
     "name": "stdout",
     "output_type": "stream",
     "text": [
      "{'松田': {'network': 60, 'database': 80}, '浅葱': {'network': 10, 'database': 90}}\n"
     ]
    }
   ],
   "source": [
    "matuda_scores = {'network':60,'database':80}\n",
    "asagi_scores = {'network':10,'database':90}\n",
    "member_scores = {\n",
    "    '松田':matuda_scores,\n",
    "    '浅葱':asagi_scores\n",
    "}\n",
    "print(member_scores)"
   ]
  },
  {
   "cell_type": "code",
   "execution_count": 25,
   "metadata": {},
   "outputs": [
    {
     "name": "stdout",
     "output_type": "stream",
     "text": [
      "[4, 5, 6]\n",
      "7\n"
     ]
    }
   ],
   "source": [
    "a = [1,2,3]\n",
    "b = [4,5,6]\n",
    "c = [7,8]\n",
    "abc = [a,b,c]\n",
    "print(abc[1])\n",
    "print(abc[2][0])"
   ]
  },
  {
   "cell_type": "code",
   "execution_count": 26,
   "metadata": {},
   "outputs": [
    {
     "name": "stdout",
     "output_type": "stream",
     "text": [
      "{1, 2, 3, 4, 5}\n",
      "{2, 3, 4}\n"
     ]
    }
   ],
   "source": [
    "A = {1,2,3,4}\n",
    "B = {2,3,4,5}\n",
    "print(A | B)\n",
    "print(A&B)"
   ]
  },
  {
   "cell_type": "code",
   "execution_count": 28,
   "metadata": {},
   "outputs": [],
   "source": [
    "setA = {'a','b','c','d'}\n",
    "setB = {'b','c','d','e'}\n",
    "aisyou = len((A & B )) /len(A | B)\n",
    "print(aisyou)"
   ]
  },
  {
   "cell_type": "code",
   "execution_count": null,
   "metadata": {},
   "outputs": [],
   "source": []
  }
 ],
 "metadata": {
  "kernelspec": {
   "display_name": "Python 3",
   "language": "python",
   "name": "python3"
  },
  "language_info": {
   "codemirror_mode": {
    "name": "ipython",
    "version": 3
   },
   "file_extension": ".py",
   "mimetype": "text/x-python",
   "name": "python",
   "nbconvert_exporter": "python",
   "pygments_lexer": "ipython3",
   "version": "3.7.3"
  }
 },
 "nbformat": 4,
 "nbformat_minor": 2
}
